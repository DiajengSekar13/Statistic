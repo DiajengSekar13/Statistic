{
 "cells": [
  {
   "cell_type": "markdown",
   "id": "e2018100-1f22-4c69-bfe8-6dc4a50dc3b3",
   "metadata": {},
   "source": [
    "# Uji Chi-Square\n",
    "Studi kasus yang penulis lakukan adalah untuk menguji hubungan antara jumlah produk terjual dan tipe produk skincare tertentu. Analisis ini bertujuan untuk mengetahui apakah jenis produk, seperti serum, pelembab, atau toner, memiliki hubungan yang signifikan dengan tingkat penjualannya di platform e-commerce. Data yang digunakan mencakup tipe produk skincare dan jumlah terjual yang telah dikelompokkan ke dalam kategori tertentu (misalnya: rendah, sedang, dan tinggi) berdasarkan rentang kuantil penjualan, dari platform Tokopedia dan Lazada."
   ]
  },
  {
   "cell_type": "code",
   "execution_count": null,
   "id": "cf2284f7-fa49-4833-b9a7-252eb5e5cbbb",
   "metadata": {},
   "outputs": [],
   "source": [
    "import pandas as pd\n",
    "from scipy.stats import chi2_contingency"
   ]
  },
  {
   "cell_type": "markdown",
   "id": "b454f56b-31c3-4d6a-a3e7-cf6a5d3a9147",
   "metadata": {},
   "source": [
    "### Produk skincare Tokopedia"
   ]
  },
  {
   "cell_type": "code",
   "execution_count": null,
   "id": "67d542d8-3c97-495b-913f-0081d5080052",
   "metadata": {},
   "outputs": [],
   "source": [
    "df = pd.read_excel(\"/content/190924-skincare clean versi2.xlsx\")\n",
    "df"
   ]
  },
  {
   "cell_type": "code",
   "execution_count": null,
   "id": "aaa117b2-228d-4720-83dc-b88e2adc83e0",
   "metadata": {},
   "outputs": [],
   "source": [
    "df2_new = df[['Product Type', 'Sold Item']]\n",
    "df2_new"
   ]
  },
  {
   "cell_type": "code",
   "execution_count": null,
   "id": "667cebb4-315d-44d0-bd5a-f9c55c96960d",
   "metadata": {},
   "outputs": [],
   "source": [
    "# Membuat kategori jumlah terjual\n",
    "median_sold = df2_new['Sold Item'].median()\n",
    "df2_new['Sold Category'] = pd.cut(df2_new['Sold Item'], bins=[0, median_sold, df2_new['Sold Item'].max()], labels=['Low', 'High'])\n",
    "\n",
    "\n",
    "# Mengelola nilai Sold = 0 secara eksplisit\n",
    "df2_new['Sold Category'] = df2_new['Sold Category'].fillna('Low')\n",
    "\n",
    "\n",
    "# Membuat tabel kontingensi\n",
    "contingency_table = pd.crosstab(df2_new['Product Type'], df2_new['Sold Category'])\n",
    "\n",
    "\n",
    "# Uji Chi-Square\n",
    "chi2, p, dof, expected = chi2_contingency(contingency_table)\n",
    "\n",
    "\n",
    "# Output hasil\n",
    "print(\"Chi-Square Statistic:\", chi2)\n",
    "print(\"p-value:\", p)\n",
    "print(\"Degrees of Freedom:\", dof)\n",
    "print(\"Expected Frequency Table:\\n\", expected)\n",
    "\n",
    "\n",
    "# Interpretasi hasil\n",
    "if p < 0.05:\n",
    "    print(\"Ada hubungan signifikan antara tipe produk dan kategori jumlah terjual.\")\n",
    "else:\n",
    "    print(\"Tidak ada hubungan signifikan antara tipe produk dan kategori jumlah terjual.\")"
   ]
  },
  {
   "cell_type": "markdown",
   "id": "3019c79f-fe05-454d-ad16-5844bd85221b",
   "metadata": {},
   "source": [
    "**Kesimpulan:** Hasil uji Chi-Square menunjukkan nilai Chi-Square Statistic sebesar 67,65, dengan p-value sebesar 8,81 × 10⁻¹⁰, yang jauh lebih kecil dari batas signifikansi α=0,05. Dengan demikian, dapat disimpulkan bahwa terdapat hubungan yang signifikan antara tipe produk dan kategori jumlah terjual di Tokopedia. Hal ini menunjukkan bahwa distribusi jumlah produk yang terjual berbeda secara signifikan berdasarkan tipe produk. Beberapa tipe produk cenderung memiliki jumlah terjual yang lebih tinggi atau lebih rendah dari yang diharapkan jika tidak ada hubungan, seperti yang terlihat pada Expected Frequency Table. Hal ini mengindikasikan bahwa tipe produk di Tokopedia dapat memengaruhi volume penjualannya, sehingga penjual atau pengambil keputusan di platform ini dapat menggunakan informasi tersebut untuk merancang strategi pemasaran atau penawaran produk yang lebih tepat sasaran"
   ]
  },
  {
   "cell_type": "markdown",
   "id": "01ca955d-03d5-44be-a895-d1a1fa2543ac",
   "metadata": {},
   "source": [
    "### Produk skincare Lazada"
   ]
  },
  {
   "cell_type": "code",
   "execution_count": null,
   "id": "887bcd86-e350-4545-844e-259e8043ce7b",
   "metadata": {},
   "outputs": [],
   "source": [
    "import pandas as pd\n",
    "from scipy.stats import chi2_contingency"
   ]
  },
  {
   "cell_type": "code",
   "execution_count": null,
   "id": "8f773f09-5b01-4055-b0cc-202bb6442ab0",
   "metadata": {},
   "outputs": [],
   "source": [
    "df1 = pd.read_csv(\"/content/240924 - Data Clean Skincare - Versi7.csv\")\n",
    "df1"
   ]
  },
  {
   "cell_type": "code",
   "execution_count": null,
   "id": "818c4f46-1f3f-455f-9e01-794a112ccce1",
   "metadata": {},
   "outputs": [],
   "source": [
    "df3_new = df1[['jenis', 'produkterjual']]\n",
    "df3_new"
   ]
  },
  {
   "cell_type": "code",
   "execution_count": null,
   "id": "d55fb7fe-1e51-493d-b296-452b47781928",
   "metadata": {},
   "outputs": [],
   "source": [
    "# Membuat kategori jumlah terjual\n",
    "median_sold = df3_new['produkterjual'].median()\n",
    "df3_new['Sold Category'] = pd.cut(df3_new['produkterjual'], bins=[0, median_sold, df3_new['produkterjual'].max()], labels=['Low', 'High'])\n",
    "\n",
    "\n",
    "# Mengelola nilai Sold = 0 secara eksplisit\n",
    "df3_new['Sold Category'] = df3_new['Sold Category'].fillna('Low')\n",
    "\n",
    "\n",
    "# Membuat tabel kontingensi\n",
    "contingency_table = pd.crosstab(df3_new['jenis'], df3_new['Sold Category'])\n",
    "\n",
    "\n",
    "# Uji Chi-Square\n",
    "chi2, p, dof, expected = chi2_contingency(contingency_table)\n",
    "\n",
    "\n",
    "# Output hasil\n",
    "print(\"Chi-Square Statistic:\", chi2)\n",
    "print(\"p-value:\", p)\n",
    "print(\"Degrees of Freedom:\", dof)\n",
    "print(\"Expected Frequency Table:\\n\", expected)\n",
    "\n",
    "\n",
    "# Interpretasi hasil\n",
    "if p < 0.05:\n",
    "    print(\"Ada hubungan signifikan antara tipe produk dan kategori jumlah terjual.\")\n",
    "else:\n",
    "    print(\"Tidak ada hubungan signifikan antara tipe produk dan kategori jumlah terjual.\")"
   ]
  },
  {
   "cell_type": "markdown",
   "id": "d8057fae-2eae-46a1-9ca0-5ba5c063b624",
   "metadata": {},
   "source": [
    "**Kesimpulan:** Hasil uji Chi-Square menunjukkan nilai Chi-Square Statistic sebesar 20,85, dengan p-value sebesar 0,03497, yang lebih kecil dari batas signifikansi α=0,05. Dengan demikian, dapat disimpulkan bahwa terdapat hubungan yang signifikan antara tipe produk dan kategori jumlah terjual di Lazada. Hal ini menunjukkan bahwa distribusi jumlah produk yang terjual bervariasi secara signifikan berdasarkan tipe produk. Dari Expected Frequency Table, dapat dilihat bahwa beberapa tipe produk memiliki perbedaan yang jelas antara jumlah terjual yang diamati dan jumlah yang diharapkan secara acak. Hal ini menunjukkan bahwa tipe produk memainkan peran penting dalam penjualan, yang dapat dimanfaatkan oleh penjual untuk merancang strategi pemasaran yang lebih efisien, dengan fokus pada tipe produk yang memiliki peluang lebih besar untuk terjual dalam jumlah lebih tinggi."
   ]
  }
 ],
 "metadata": {
  "kernelspec": {
   "display_name": "Python 3 (ipykernel)",
   "language": "python",
   "name": "python3"
  },
  "language_info": {
   "codemirror_mode": {
    "name": "ipython",
    "version": 3
   },
   "file_extension": ".py",
   "mimetype": "text/x-python",
   "name": "python",
   "nbconvert_exporter": "python",
   "pygments_lexer": "ipython3",
   "version": "3.11.7"
  }
 },
 "nbformat": 4,
 "nbformat_minor": 5
}
