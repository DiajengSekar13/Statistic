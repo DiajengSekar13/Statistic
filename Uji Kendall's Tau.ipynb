{
 "cells": [
  {
   "cell_type": "markdown",
   "id": "b2276a21-b963-45a4-b407-fa9d9ec34297",
   "metadata": {},
   "source": [
    "# Uji Kendall’s Tau\n",
    "Studi kasus yang penulis lakukan adalah untuk menguji hubungan antara besar diskon dan jumlah produk skincare yang terjual. Analisis ini bertujuan untuk mengetahui apakah terdapat hubungan signifikan antara seberapa besar diskon yang diberikan oleh penjual dengan tingkat penjualan produk tersebut di platform e-commerce. Data yang digunakan mencakup informasi mengenai persentase diskon dan jumlah produk yang terjual, yang diperoleh dari platform seperti Tokopedia dan Lazada."
   ]
  },
  {
   "cell_type": "code",
   "execution_count": null,
   "id": "e0fda72d-b13f-4807-973e-ae05df20f20d",
   "metadata": {},
   "outputs": [],
   "source": [
    "import pandas as pd\n",
    "from scipy.stats import kendalltau"
   ]
  },
  {
   "cell_type": "markdown",
   "id": "2d3b184d-dc7c-4df9-b4d1-9b0ff6ad3c78",
   "metadata": {},
   "source": [
    "### Produk skincare Tokopedia"
   ]
  },
  {
   "cell_type": "code",
   "execution_count": null,
   "id": "b97e0ff5-20c5-49e0-bbef-89b7487a3724",
   "metadata": {},
   "outputs": [],
   "source": [
    "df1 = pd.read_excel(\"/content/190924-skincare clean versi2.xlsx\")\n",
    "df1"
   ]
  },
  {
   "cell_type": "code",
   "execution_count": null,
   "id": "15f442da-669f-486f-b309-cde19e5e9126",
   "metadata": {},
   "outputs": [],
   "source": [
    "df2_new = df1[['Sold Item', 'Discount Percent']]\n",
    "df2_new"
   ]
  },
  {
   "cell_type": "code",
   "execution_count": null,
   "id": "9a897396-6301-46b1-8e1f-fe0d45791de2",
   "metadata": {},
   "outputs": [],
   "source": [
    "# Uji Kendall Tau\n",
    "tau, p_value = kendalltau(df2_new['Discount Percent'], df2_new['Sold Item'])\n",
    "\n",
    "\n",
    "# Output hasil\n",
    "print(\"Kendall Tau Correlation Coefficient:\", tau)\n",
    "print(\"p-value:\", p_value)\n",
    "\n",
    "\n",
    "# Interpretasi hasil\n",
    "if p_value < 0.05:\n",
    "    print(\"Ada hubungan signifikan antara diskon dan jumlah terjual.\")\n",
    "else:\n",
    "    print(\"Tidak ada hubungan signifikan antara diskon dan jumlah terjual.\")"
   ]
  },
  {
   "cell_type": "markdown",
   "id": "b5cc5d12-25cd-4b78-8f95-7723fcf0acad",
   "metadata": {},
   "source": [
    "**Kesimpulan:** Hasil uji menunjukkan Kendall Tau Correlation Coefficient sebesar 0,2155 dan p-value sebesar 8,46 × 10⁻⁴⁹, yang jauh lebih kecil dari batas signifikansi α=0,05. Dengan demikian, dapat disimpulkan bahwa terdapat hubungan signifikan antara diskon dan jumlah produk yang terjual di Tokopedia. Nilai korelasi positif ini menunjukkan bahwa semakin besar diskon yang diberikan, semakin tinggi jumlah produk yang terjual. Hal ini mengindikasikan bahwa diskon berperan sebagai faktor penting yang mempengaruhi keputusan pembelian konsumen, dengan konsumen lebih cenderung membeli produk ketika diberikan potongan harga. Hasil ini memberikan wawasan berharga bagi penjual di Tokopedia untuk mempertimbangkan penggunaan strategi diskon yang lebih agresif guna meningkatkan volume penjualan."
   ]
  },
  {
   "cell_type": "markdown",
   "id": "ffe847e8-1803-4455-a79b-5a9022e59e4f",
   "metadata": {},
   "source": [
    "### Produk skincare Lazada"
   ]
  },
  {
   "cell_type": "code",
   "execution_count": null,
   "id": "fbf648f6-b92d-44f1-9a1f-11ce1c9e92a8",
   "metadata": {},
   "outputs": [],
   "source": [
    "df = pd.read_excel(\"/content/190924-skincare clean versi2.xlsx\")\n",
    "df"
   ]
  },
  {
   "cell_type": "code",
   "execution_count": null,
   "id": "8d35fdaf-fd17-43bc-b0e3-2e6d38cc875e",
   "metadata": {},
   "outputs": [],
   "source": [
    "df3_new = df[['produkterjual', 'voucher(%)']]\n",
    "df3_new"
   ]
  },
  {
   "cell_type": "code",
   "execution_count": null,
   "id": "d24d9ec1-29f9-4181-ab6f-28a01cbd61c9",
   "metadata": {},
   "outputs": [],
   "source": [
    "# Uji Kendall Tau\n",
    "tau, p_value = kendalltau(df3_new['voucher(%)'], df3_new['produkterjual'])\n",
    "\n",
    "# Output hasil\n",
    "print(\"Kendall Tau Correlation Coefficient:\", tau)\n",
    "print(\"p-value:\", p_value)\n",
    "\n",
    "# Interpretasi hasil\n",
    "if p_value < 0.05:\n",
    "    print(\"Ada hubungan signifikan antara diskon dan jumlah terjual.\")\n",
    "else:\n",
    "    print(\"Tidak ada hubungan signifikan antara diskon dan jumlah terjual.\")"
   ]
  },
  {
   "cell_type": "markdown",
   "id": "14b8e0d1-d5fe-4586-8f9f-92f2592c3b15",
   "metadata": {},
   "source": [
    "**Kesimpulan:** Hasil uji menunjukkan Kendall Tau Correlation Coefficient sebesar -0,0062 dan p-value sebesar 0,7391, yang lebih besar dari batas signifikansi α=0,05. Oleh karena itu, dapat disimpulkan bahwa tidak terdapat hubungan signifikan antara diskon dan jumlah produk yang terjual di Lazada. Nilai korelasi yang sangat kecil dan p-value yang tinggi menunjukkan bahwa diskon tidak mempengaruhi penjualan produk di platform ini secara substansial. Meskipun diskon seringkali digunakan sebagai strategi untuk menarik konsumen, hasil ini menyarankan bahwa faktor-faktor lain, seperti kualitas produk, reputasi penjual, atau promosi lainnya, mungkin lebih berperan dalam menentukan volume penjualan di Lazada."
   ]
  }
 ],
 "metadata": {
  "kernelspec": {
   "display_name": "Python 3 (ipykernel)",
   "language": "python",
   "name": "python3"
  },
  "language_info": {
   "codemirror_mode": {
    "name": "ipython",
    "version": 3
   },
   "file_extension": ".py",
   "mimetype": "text/x-python",
   "name": "python",
   "nbconvert_exporter": "python",
   "pygments_lexer": "ipython3",
   "version": "3.11.7"
  }
 },
 "nbformat": 4,
 "nbformat_minor": 5
}
