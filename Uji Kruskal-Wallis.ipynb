{
 "cells": [
  {
   "cell_type": "markdown",
   "id": "880a00e5-3afa-456b-abb7-e8ae7ae50bc7",
   "metadata": {},
   "source": [
    "# Uji Kruskal-Wallis\n",
    "Studi kasus yang penulis lakukan adalah menganalisis perbedaan harga di antara berbagai tipe produk skincare yang dijual di platform e-commerce Tokopedia dan Lazada. Perbedaan harga ini mencerminkan variasi dalam strategi penentuan harga berdasarkan jenis produk, seperti serum, pelembab, toner, dan lainnya. "
   ]
  },
  {
   "cell_type": "code",
   "execution_count": 1,
   "id": "92029b93-b98a-4189-8f97-bf5fb3f5a8a0",
   "metadata": {},
   "outputs": [],
   "source": [
    "import pandas as pd\n",
    "from scipy.stats import kruskal"
   ]
  },
  {
   "cell_type": "code",
   "execution_count": null,
   "id": "98416ee3-7429-475b-9210-1b9d26a74ed1",
   "metadata": {},
   "outputs": [],
   "source": [
    "df = pd.read_excel(\"/content/190924-skincare clean versi2.xlsx\")\n",
    "df"
   ]
  },
  {
   "cell_type": "code",
   "execution_count": null,
   "id": "3cb36ce3-e734-4170-8397-e241822198d1",
   "metadata": {},
   "outputs": [],
   "source": [
    "df_new = df[['Product Type', 'Price']]\n",
    "df_new"
   ]
  },
  {
   "cell_type": "code",
   "execution_count": null,
   "id": "1e218ec3-032b-49e3-a0ea-9431cfdf18bf",
   "metadata": {},
   "outputs": [],
   "source": [
    "# Mengelompokkan data berdasarkan tipe produk\n",
    "groups = df_new.groupby('Product Type')['Price'].apply(list)\n",
    "\n",
    "\n",
    "# Uji Kruskal-Wallis\n",
    "kruskal_result = kruskal(*groups)\n",
    "print(\"\\nHasil Uji Kruskal-Wallis:\")\n",
    "print(f\"Statistic: {kruskal_result.statistic}, p-value: {kruskal_result.pvalue}\")\n",
    "\n",
    "\n",
    "# Interpretasi hasil\n",
    "alpha = 0.05\n",
    "if kruskal_result.pvalue < alpha:\n",
    "    print(\"\\nTerdapat perbedaan signifikan dalam harga di antara tipe produk skincare.\")\n",
    "else:\n",
    "    print(\"\\nTidak terdapat perbedaan signifikan dalam harga di antara tipe produk skincare.\")"
   ]
  },
  {
   "cell_type": "code",
   "execution_count": null,
   "id": "de65956d-5c54-4561-9de8-f993e733df42",
   "metadata": {},
   "outputs": [],
   "source": [
    "import pandas as pd\n",
    "from scipy.stats import kruskal"
   ]
  },
  {
   "cell_type": "code",
   "execution_count": null,
   "id": "284a8f74-6a25-46c9-b208-f624cab65a6a",
   "metadata": {},
   "outputs": [],
   "source": [
    "df1 = pd.read_csv(\"/content/240924 - Data Clean Skincare - Versi7.csv\")\n",
    "df1"
   ]
  },
  {
   "cell_type": "code",
   "execution_count": null,
   "id": "8564fa66-57fa-4ec3-a96e-d89bc84d4adc",
   "metadata": {},
   "outputs": [],
   "source": [
    "df1_new = df1[['jenis', 'harga']]\n",
    "df1_new  "
   ]
  },
  {
   "cell_type": "code",
   "execution_count": null,
   "id": "ac5a4d7d-35b0-44cf-b1ee-6aad25e916bd",
   "metadata": {},
   "outputs": [],
   "source": [
    "# Mengelompokkan data berdasarkan tipe produk\n",
    "groups = df1_new.groupby('jenis')['harga'].apply(list)\n",
    "\n",
    "# Uji Kruskal-Wallis\n",
    "kruskal_result = kruskal(*groups)\n",
    "print(\"\\nHasil Uji Kruskal-Wallis:\")\n",
    "print(f\"Statistic: {kruskal_result.statistic}, p-value: {kruskal_result.pvalue}\")\n",
    "\n",
    "# Interpretasi hasil\n",
    "alpha = 0.05\n",
    "if kruskal_result.pvalue < alpha:\n",
    "    print(\"\\nTerdapat perbedaan signifikan dalam harga di antara tipe produk skincare.\")\n",
    "else:\n",
    "    print(\"\\nTidak terdapat perbedaan signifikan dalam harga di antara tipe produk skincare.\")"
   ]
  },
  {
   "cell_type": "markdown",
   "id": "a1074108-2960-49a0-b10a-7b9c496e9110",
   "metadata": {},
   "source": [
    "**Kesimpulan**:\n",
    "Hasil uji menunjukkan nilai statistik sebesar 155,38 dan p-value sebesar 1,18 × 10⁻²⁷, yang jauh lebih kecil dari batas signifikansi α=0,05. Dengan demikian, dapat disimpulkan bahwa terdapat perbedaan yang signifikan secara statistik dalam harga di antara tipe produk skincare di Lazada. Hal ini dapat memberi wawasan lebih lanjut bagi pelaku usaha di Lazada untuk memahami faktor-faktor yang mempengaruhi harga produk skincare dan memperlihatkan adanya peluang untuk optimasi strategi harga sesuai dengan jenis produk."
   ]
  }
 ],
 "metadata": {
  "kernelspec": {
   "display_name": "Python 3 (ipykernel)",
   "language": "python",
   "name": "python3"
  },
  "language_info": {
   "codemirror_mode": {
    "name": "ipython",
    "version": 3
   },
   "file_extension": ".py",
   "mimetype": "text/x-python",
   "name": "python",
   "nbconvert_exporter": "python",
   "pygments_lexer": "ipython3",
   "version": "3.11.7"
  }
 },
 "nbformat": 4,
 "nbformat_minor": 5
}
