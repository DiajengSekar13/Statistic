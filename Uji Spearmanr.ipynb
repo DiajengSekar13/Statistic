{
 "cells": [
  {
   "cell_type": "markdown",
   "id": "53457ed0-16a2-4dcb-8df6-1112bfd57094",
   "metadata": {},
   "source": [
    "# Uji Spearman Rank Correlation\n",
    "Studi kasus yang penulis lakukan adalah untuk menguji hubungan antara harga dan jumlah produk skincare yang terjual. Hubungan ini mencerminkan bagaimana harga mempengaruhi tingkat penjualan suatu produk, yang dapat memberikan wawasan penting tentang dinamika pasar skincare di platform e-commerce. Data yang digunakan mencakup informasi harga dan jumlah terjual dari berbagai produk skincare yang diambil dari platform Tokopedia dan Lazada."
   ]
  },
  {
   "cell_type": "code",
   "execution_count": 2,
   "id": "7480e745-cb6d-4379-84f8-bfcc8755891b",
   "metadata": {},
   "outputs": [],
   "source": [
    "import pandas as pd\n",
    "from scipy.stats import spearmanr"
   ]
  },
  {
   "cell_type": "code",
   "execution_count": 3,
   "id": "ae9c96a6-10b1-497a-acb2-df844d4f3cd7",
   "metadata": {},
   "outputs": [
    {
     "data": {
      "text/html": [
       "<div>\n",
       "<style scoped>\n",
       "    .dataframe tbody tr th:only-of-type {\n",
       "        vertical-align: middle;\n",
       "    }\n",
       "\n",
       "    .dataframe tbody tr th {\n",
       "        vertical-align: top;\n",
       "    }\n",
       "\n",
       "    .dataframe thead th {\n",
       "        text-align: right;\n",
       "    }\n",
       "</style>\n",
       "<table border=\"1\" class=\"dataframe\">\n",
       "  <thead>\n",
       "    <tr style=\"text-align: right;\">\n",
       "      <th></th>\n",
       "      <th>namaproduk</th>\n",
       "      <th>harga</th>\n",
       "      <th>produkterjual</th>\n",
       "      <th>daerah</th>\n",
       "      <th>linkproduk</th>\n",
       "      <th>jenis</th>\n",
       "      <th>provinsi</th>\n",
       "      <th>cashbackkoin</th>\n",
       "      <th>voucher(%)</th>\n",
       "    </tr>\n",
       "  </thead>\n",
       "  <tbody>\n",
       "    <tr>\n",
       "      <th>0</th>\n",
       "      <td>onlyou sunscreen</td>\n",
       "      <td>52500</td>\n",
       "      <td>200</td>\n",
       "      <td>Kota Jakarta Barat</td>\n",
       "      <td>https://www.lazada.co.id/products/onlyou-sunsc...</td>\n",
       "      <td>Sunscreen</td>\n",
       "      <td>DKI Jakarta</td>\n",
       "      <td>0</td>\n",
       "      <td>0</td>\n",
       "    </tr>\n",
       "    <tr>\n",
       "      <th>1</th>\n",
       "      <td>daily brightener asderma aesthetic</td>\n",
       "      <td>59000</td>\n",
       "      <td>187</td>\n",
       "      <td>Kota Jakarta Utara</td>\n",
       "      <td>https://www.lazada.co.id/products/daily-bright...</td>\n",
       "      <td>Paket Skincare</td>\n",
       "      <td>DKI Jakarta</td>\n",
       "      <td>1770</td>\n",
       "      <td>0</td>\n",
       "    </tr>\n",
       "    <tr>\n",
       "      <th>2</th>\n",
       "      <td>biore aqua rich sunscreen watery essence water...</td>\n",
       "      <td>19900</td>\n",
       "      <td>500</td>\n",
       "      <td>Kab. Bekasi</td>\n",
       "      <td>https://www.lazada.co.id/products/biore-uv-aqu...</td>\n",
       "      <td>Sunscreen</td>\n",
       "      <td>Jawa Barat</td>\n",
       "      <td>0</td>\n",
       "      <td>50</td>\n",
       "    </tr>\n",
       "    <tr>\n",
       "      <th>3</th>\n",
       "      <td>hh sunscreen lightening pink defender sunscree...</td>\n",
       "      <td>64999</td>\n",
       "      <td>11100</td>\n",
       "      <td>Kota Jakarta Selatan</td>\n",
       "      <td>https://www.lazada.co.id/products/hh-sunscreen...</td>\n",
       "      <td>Sunscreen</td>\n",
       "      <td>DKI Jakarta</td>\n",
       "      <td>3900</td>\n",
       "      <td>0</td>\n",
       "    </tr>\n",
       "    <tr>\n",
       "      <th>4</th>\n",
       "      <td>toner super strong flek glowing</td>\n",
       "      <td>14900</td>\n",
       "      <td>39800</td>\n",
       "      <td>Kota Bekasi</td>\n",
       "      <td>https://www.lazada.co.id/products/toner-super-...</td>\n",
       "      <td>Toner</td>\n",
       "      <td>Jawa Barat</td>\n",
       "      <td>447</td>\n",
       "      <td>0</td>\n",
       "    </tr>\n",
       "  </tbody>\n",
       "</table>\n",
       "</div>"
      ],
      "text/plain": [
       "                                          namaproduk  harga  produkterjual  \\\n",
       "0                                   onlyou sunscreen  52500            200   \n",
       "1                 daily brightener asderma aesthetic  59000            187   \n",
       "2  biore aqua rich sunscreen watery essence water...  19900            500   \n",
       "3  hh sunscreen lightening pink defender sunscree...  64999          11100   \n",
       "4                    toner super strong flek glowing  14900          39800   \n",
       "\n",
       "                 daerah                                         linkproduk  \\\n",
       "0    Kota Jakarta Barat  https://www.lazada.co.id/products/onlyou-sunsc...   \n",
       "1    Kota Jakarta Utara  https://www.lazada.co.id/products/daily-bright...   \n",
       "2           Kab. Bekasi  https://www.lazada.co.id/products/biore-uv-aqu...   \n",
       "3  Kota Jakarta Selatan  https://www.lazada.co.id/products/hh-sunscreen...   \n",
       "4           Kota Bekasi  https://www.lazada.co.id/products/toner-super-...   \n",
       "\n",
       "            jenis     provinsi  cashbackkoin  voucher(%)  \n",
       "0       Sunscreen  DKI Jakarta             0           0  \n",
       "1  Paket Skincare  DKI Jakarta          1770           0  \n",
       "2       Sunscreen   Jawa Barat             0          50  \n",
       "3       Sunscreen  DKI Jakarta          3900           0  \n",
       "4           Toner   Jawa Barat           447           0  "
      ]
     },
     "execution_count": 3,
     "metadata": {},
     "output_type": "execute_result"
    }
   ],
   "source": [
    "df = pd.read_csv(\"C:/Users/hp/Downloads/240924 - Data Clean Skincare - Versi7.csv\")\n",
    "df.head()"
   ]
  },
  {
   "cell_type": "code",
   "execution_count": 4,
   "id": "543119b9-eeb1-4eb6-8d41-0839e9509d29",
   "metadata": {},
   "outputs": [
    {
     "data": {
      "text/html": [
       "<div>\n",
       "<style scoped>\n",
       "    .dataframe tbody tr th:only-of-type {\n",
       "        vertical-align: middle;\n",
       "    }\n",
       "\n",
       "    .dataframe tbody tr th {\n",
       "        vertical-align: top;\n",
       "    }\n",
       "\n",
       "    .dataframe thead th {\n",
       "        text-align: right;\n",
       "    }\n",
       "</style>\n",
       "<table border=\"1\" class=\"dataframe\">\n",
       "  <thead>\n",
       "    <tr style=\"text-align: right;\">\n",
       "      <th></th>\n",
       "      <th>produkterjual</th>\n",
       "      <th>harga</th>\n",
       "    </tr>\n",
       "  </thead>\n",
       "  <tbody>\n",
       "    <tr>\n",
       "      <th>0</th>\n",
       "      <td>200</td>\n",
       "      <td>52500</td>\n",
       "    </tr>\n",
       "    <tr>\n",
       "      <th>1</th>\n",
       "      <td>187</td>\n",
       "      <td>59000</td>\n",
       "    </tr>\n",
       "    <tr>\n",
       "      <th>2</th>\n",
       "      <td>500</td>\n",
       "      <td>19900</td>\n",
       "    </tr>\n",
       "    <tr>\n",
       "      <th>3</th>\n",
       "      <td>11100</td>\n",
       "      <td>64999</td>\n",
       "    </tr>\n",
       "    <tr>\n",
       "      <th>4</th>\n",
       "      <td>39800</td>\n",
       "      <td>14900</td>\n",
       "    </tr>\n",
       "    <tr>\n",
       "      <th>...</th>\n",
       "      <td>...</td>\n",
       "      <td>...</td>\n",
       "    </tr>\n",
       "    <tr>\n",
       "      <th>1645</th>\n",
       "      <td>63</td>\n",
       "      <td>33570</td>\n",
       "    </tr>\n",
       "    <tr>\n",
       "      <th>1646</th>\n",
       "      <td>128</td>\n",
       "      <td>7000</td>\n",
       "    </tr>\n",
       "    <tr>\n",
       "      <th>1647</th>\n",
       "      <td>317</td>\n",
       "      <td>18500</td>\n",
       "    </tr>\n",
       "    <tr>\n",
       "      <th>1648</th>\n",
       "      <td>145</td>\n",
       "      <td>29046</td>\n",
       "    </tr>\n",
       "    <tr>\n",
       "      <th>1649</th>\n",
       "      <td>82</td>\n",
       "      <td>75000</td>\n",
       "    </tr>\n",
       "  </tbody>\n",
       "</table>\n",
       "<p>1650 rows × 2 columns</p>\n",
       "</div>"
      ],
      "text/plain": [
       "      produkterjual  harga\n",
       "0               200  52500\n",
       "1               187  59000\n",
       "2               500  19900\n",
       "3             11100  64999\n",
       "4             39800  14900\n",
       "...             ...    ...\n",
       "1645             63  33570\n",
       "1646            128   7000\n",
       "1647            317  18500\n",
       "1648            145  29046\n",
       "1649             82  75000\n",
       "\n",
       "[1650 rows x 2 columns]"
      ]
     },
     "execution_count": 4,
     "metadata": {},
     "output_type": "execute_result"
    }
   ],
   "source": [
    "df_new = df[['produkterjual', 'harga']]\n",
    "df_new"
   ]
  },
  {
   "cell_type": "code",
   "execution_count": 5,
   "id": "dbaa24d5-b5f0-4766-8285-faec197396bd",
   "metadata": {},
   "outputs": [
    {
     "name": "stdout",
     "output_type": "stream",
     "text": [
      "Hipotesis yang diuji:\n",
      "H₀ (Hipotesis Nol): Tidak ada hubungan monoton signifikan antara harga dan jumlah produk yang terjual (𝜌 = 0).\n",
      "H₁ (Hipotesis Alternatif): Ada hubungan monoton signifikan antara harga dan jumlah produk yang terjual (𝜌 ≠ 0).\n",
      "\n",
      "Level Signifikansi yang digunakan adalah α = 0.05 (5%).\n",
      "\n",
      "Hasil Uji Spearman Rank Correlation:\n",
      "Spearman Correlation: -0.12336253098055075, p-value: 4.997152762042174e-07\n",
      "\n",
      "Terdapat hubungan signifikan antara harga dan jumlah produk terjual.\n"
     ]
    }
   ],
   "source": [
    "# Menentukan Hipotesis\n",
    "print(\"Hipotesis yang diuji:\")\n",
    "print(\"H₀ (Hipotesis Nol): Tidak ada hubungan monoton signifikan antara harga dan jumlah produk yang terjual (𝜌 = 0).\")\n",
    "print(\"H₁ (Hipotesis Alternatif): Ada hubungan monoton signifikan antara harga dan jumlah produk yang terjual (𝜌 ≠ 0).\")\n",
    "\n",
    "# Menentukan Level Signifikansi\n",
    "alpha = 0.05\n",
    "print(f\"\\nLevel Signifikansi yang digunakan adalah α = {alpha} (5%).\")\n",
    "\n",
    "# Memuat Library yang diperlukan\n",
    "import pandas as pd\n",
    "from scipy.stats import spearmanr\n",
    "\n",
    "# Melakukan Uji Spearman Rank Correlation\n",
    "correlation, p_value = spearmanr(df_new['harga'], df_new['produkterjual'])\n",
    "print(\"\\nHasil Uji Spearman Rank Correlation:\")\n",
    "print(f\"Spearman Correlation: {correlation}, p-value: {p_value}\")\n",
    "\n",
    "# Interpretasi Hasil\n",
    "if p_value < alpha:\n",
    "    print(\"\\nTerdapat hubungan signifikan antara harga dan jumlah produk terjual.\")\n",
    "else:\n",
    "    print(\"\\nTidak terdapat hubungan signifikan antara harga dan jumlah produk terjual.\")"
   ]
  },
  {
   "cell_type": "code",
   "execution_count": 6,
   "id": "5e7cb67a-ccb8-40e0-b585-9cb80a43cd5f",
   "metadata": {},
   "outputs": [
    {
     "name": "stdout",
     "output_type": "stream",
     "text": [
      "\n",
      "Hasil Uji Spearman Rank Correlation:\n",
      "Spearman Correlation: -0.12336253098055075, p-value: 4.997152762042174e-07\n"
     ]
    }
   ],
   "source": [
    " # Uji Spearman Rank Correlation\n",
    "correlation, p_value = spearmanr(df_new['harga'],\n",
    "                                 df_new['produkterjual'])\n",
    "print(\"\\nHasil Uji Spearman Rank Correlation:\")\n",
    "print(f\"Spearman Correlation: {correlation}, p-value: {p_value}\")"
   ]
  },
  {
   "cell_type": "code",
   "execution_count": 7,
   "id": "183185fe-ae57-471c-9b12-f5024a8169e6",
   "metadata": {},
   "outputs": [
    {
     "name": "stdout",
     "output_type": "stream",
     "text": [
      "\n",
      "Terdapat hubungan signifikan antara harga dan jumlah produk terjual.\n"
     ]
    }
   ],
   "source": [
    "# Interpretasi hasil\n",
    "alpha = 0.05\n",
    "if p_value < alpha:\n",
    "    print(\"\\nTerdapat hubungan signifikan antara harga dan jumlah produk terjual.\")\n",
    "else:\n",
    "    print(\"\\nTidak terdapat hubungan signifikan antara harga dan jumlah produk terjual.\")"
   ]
  },
  {
   "cell_type": "markdown",
   "id": "15e5453c-71ea-4c1e-81d8-bd45a1bd0f2f",
   "metadata": {},
   "source": [
    "Hasil uji menunjukkan nilai Spearman Correlation sebesar -0,1234 dengan p-value 4,99 × 10⁻⁷. Karena p-value lebih kecil dari 0,05, dapat disimpulkan bahwa terdapat hubungan signifikan antara harga dan jumlah produk terjual di Lazada. Korelasi negatif (-0,1234) menunjukkan bahwa semakin tinggi harga produk, semakin rendah jumlah produk terjual, dan sebaliknya. Hal ini mengindikasikan bahwa harga memengaruhi volume penjualan, dengan produk berharga lebih murah cenderung terjual lebih banyak dibandingkan produk yang lebih mahal."
   ]
  }
 ],
 "metadata": {
  "kernelspec": {
   "display_name": "Python 3 (ipykernel)",
   "language": "python",
   "name": "python3"
  },
  "language_info": {
   "codemirror_mode": {
    "name": "ipython",
    "version": 3
   },
   "file_extension": ".py",
   "mimetype": "text/x-python",
   "name": "python",
   "nbconvert_exporter": "python",
   "pygments_lexer": "ipython3",
   "version": "3.11.7"
  }
 },
 "nbformat": 4,
 "nbformat_minor": 5
}
